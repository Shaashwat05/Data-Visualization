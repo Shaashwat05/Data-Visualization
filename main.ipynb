{
 "cells": [
  {
   "cell_type": "code",
   "execution_count": 2,
   "metadata": {},
   "outputs": [],
   "source": [
    "import numpy as np\n",
    "import pandas as pd \n",
    "import matplotlib.pyplot as plt \n",
    "import seaborn as sbn \n"
   ]
  },
  {
   "cell_type": "markdown",
   "metadata": {},
   "source": [
    "# Data Acquisition"
   ]
  },
  {
   "cell_type": "code",
   "execution_count": 18,
   "metadata": {
    "tags": []
   },
   "outputs": [
    {
     "output_type": "execute_result",
     "data": {
      "text/plain": "   id  menu_page_id  price  high_price  dish_id               created_at  \\\n0   1          1389    0.4         NaN      1.0  2011-03-28 15:00:44 UTC   \n1   2          1389    0.6         NaN      2.0  2011-03-28 15:01:13 UTC   \n2   3          1389    0.4         NaN      3.0  2011-03-28 15:01:40 UTC   \n3   4          1389    0.5         NaN      4.0  2011-03-28 15:01:51 UTC   \n4   5          3079    0.5         1.0      5.0  2011-03-28 15:21:26 UTC   \n\n                updated_at      xpos      ypos  \n0  2011-04-19 04:33:15 UTC  0.111429  0.254735  \n1  2011-04-19 15:00:54 UTC  0.438571  0.254735  \n2  2011-04-19 19:10:05 UTC  0.140000  0.261922  \n3  2011-04-19 19:07:01 UTC  0.377143  0.262720  \n4  2011-04-13 15:25:27 UTC  0.105714  0.313178  ",
      "text/html": "<div>\n<style scoped>\n    .dataframe tbody tr th:only-of-type {\n        vertical-align: middle;\n    }\n\n    .dataframe tbody tr th {\n        vertical-align: top;\n    }\n\n    .dataframe thead th {\n        text-align: right;\n    }\n</style>\n<table border=\"1\" class=\"dataframe\">\n  <thead>\n    <tr style=\"text-align: right;\">\n      <th></th>\n      <th>id</th>\n      <th>menu_page_id</th>\n      <th>price</th>\n      <th>high_price</th>\n      <th>dish_id</th>\n      <th>created_at</th>\n      <th>updated_at</th>\n      <th>xpos</th>\n      <th>ypos</th>\n    </tr>\n  </thead>\n  <tbody>\n    <tr>\n      <th>0</th>\n      <td>1</td>\n      <td>1389</td>\n      <td>0.4</td>\n      <td>NaN</td>\n      <td>1.0</td>\n      <td>2011-03-28 15:00:44 UTC</td>\n      <td>2011-04-19 04:33:15 UTC</td>\n      <td>0.111429</td>\n      <td>0.254735</td>\n    </tr>\n    <tr>\n      <th>1</th>\n      <td>2</td>\n      <td>1389</td>\n      <td>0.6</td>\n      <td>NaN</td>\n      <td>2.0</td>\n      <td>2011-03-28 15:01:13 UTC</td>\n      <td>2011-04-19 15:00:54 UTC</td>\n      <td>0.438571</td>\n      <td>0.254735</td>\n    </tr>\n    <tr>\n      <th>2</th>\n      <td>3</td>\n      <td>1389</td>\n      <td>0.4</td>\n      <td>NaN</td>\n      <td>3.0</td>\n      <td>2011-03-28 15:01:40 UTC</td>\n      <td>2011-04-19 19:10:05 UTC</td>\n      <td>0.140000</td>\n      <td>0.261922</td>\n    </tr>\n    <tr>\n      <th>3</th>\n      <td>4</td>\n      <td>1389</td>\n      <td>0.5</td>\n      <td>NaN</td>\n      <td>4.0</td>\n      <td>2011-03-28 15:01:51 UTC</td>\n      <td>2011-04-19 19:07:01 UTC</td>\n      <td>0.377143</td>\n      <td>0.262720</td>\n    </tr>\n    <tr>\n      <th>4</th>\n      <td>5</td>\n      <td>3079</td>\n      <td>0.5</td>\n      <td>1.0</td>\n      <td>5.0</td>\n      <td>2011-03-28 15:21:26 UTC</td>\n      <td>2011-04-13 15:25:27 UTC</td>\n      <td>0.105714</td>\n      <td>0.313178</td>\n    </tr>\n  </tbody>\n</table>\n</div>"
     },
     "metadata": {},
     "execution_count": 18
    }
   ],
   "source": [
    "menu_item = pd.read_csv(\"MenuItem.csv\")\n",
    "\n",
    "menu_item.head(5)"
   ]
  },
  {
   "cell_type": "code",
   "execution_count": 19,
   "metadata": {
    "tags": []
   },
   "outputs": [
    {
     "output_type": "execute_result",
     "data": {
      "text/plain": "   id                        name  description  menus_appeared  \\\n0   1  Consomme printaniere royal          NaN               8   \n1   2               Chicken gumbo          NaN             110   \n2   3         Tomato aux croutons          NaN              13   \n3   4             Onion au gratin          NaN              41   \n4   5                 St. Emilion          NaN              66   \n\n   times_appeared  first_appeared  last_appeared  lowest_price  highest_price  \n0               9            1897           1927          0.20            0.4  \n1             116            1895           1960          0.10            0.8  \n2              13            1893           1917          0.25            0.4  \n3              41            1900           1971          0.25            1.0  \n4              68            1881           1981          0.00           18.0  ",
      "text/html": "<div>\n<style scoped>\n    .dataframe tbody tr th:only-of-type {\n        vertical-align: middle;\n    }\n\n    .dataframe tbody tr th {\n        vertical-align: top;\n    }\n\n    .dataframe thead th {\n        text-align: right;\n    }\n</style>\n<table border=\"1\" class=\"dataframe\">\n  <thead>\n    <tr style=\"text-align: right;\">\n      <th></th>\n      <th>id</th>\n      <th>name</th>\n      <th>description</th>\n      <th>menus_appeared</th>\n      <th>times_appeared</th>\n      <th>first_appeared</th>\n      <th>last_appeared</th>\n      <th>lowest_price</th>\n      <th>highest_price</th>\n    </tr>\n  </thead>\n  <tbody>\n    <tr>\n      <th>0</th>\n      <td>1</td>\n      <td>Consomme printaniere royal</td>\n      <td>NaN</td>\n      <td>8</td>\n      <td>9</td>\n      <td>1897</td>\n      <td>1927</td>\n      <td>0.20</td>\n      <td>0.4</td>\n    </tr>\n    <tr>\n      <th>1</th>\n      <td>2</td>\n      <td>Chicken gumbo</td>\n      <td>NaN</td>\n      <td>110</td>\n      <td>116</td>\n      <td>1895</td>\n      <td>1960</td>\n      <td>0.10</td>\n      <td>0.8</td>\n    </tr>\n    <tr>\n      <th>2</th>\n      <td>3</td>\n      <td>Tomato aux croutons</td>\n      <td>NaN</td>\n      <td>13</td>\n      <td>13</td>\n      <td>1893</td>\n      <td>1917</td>\n      <td>0.25</td>\n      <td>0.4</td>\n    </tr>\n    <tr>\n      <th>3</th>\n      <td>4</td>\n      <td>Onion au gratin</td>\n      <td>NaN</td>\n      <td>41</td>\n      <td>41</td>\n      <td>1900</td>\n      <td>1971</td>\n      <td>0.25</td>\n      <td>1.0</td>\n    </tr>\n    <tr>\n      <th>4</th>\n      <td>5</td>\n      <td>St. Emilion</td>\n      <td>NaN</td>\n      <td>66</td>\n      <td>68</td>\n      <td>1881</td>\n      <td>1981</td>\n      <td>0.00</td>\n      <td>18.0</td>\n    </tr>\n  </tbody>\n</table>\n</div>"
     },
     "metadata": {},
     "execution_count": 19
    }
   ],
   "source": [
    "dish = pd.read_csv(\"Dish.csv\")\n",
    "\n",
    "dish.head(5)"
   ]
  },
  {
   "cell_type": "code",
   "execution_count": 17,
   "metadata": {
    "tags": []
   },
   "outputs": [
    {
     "output_type": "execute_result",
     "data": {
      "text/plain": "    id  menu_id  page_number image_id  full_height  full_width  \\\n0  119    12460          1.0  1603595       7230.0      5428.0   \n1  120    12460          2.0  1603596       5428.0      7230.0   \n2  121    12460          3.0  1603597       7230.0      5428.0   \n3  122    12460          4.0  1603598       7230.0      5428.0   \n4  123    12461          1.0  1603591       7230.0      5428.0   \n\n                                   uuid  \n0  510d47e4-2955-a3d9-e040-e00a18064a99  \n1  510d47e4-2956-a3d9-e040-e00a18064a99  \n2  510d47e4-2957-a3d9-e040-e00a18064a99  \n3  510d47e4-2958-a3d9-e040-e00a18064a99  \n4  510d47e4-2959-a3d9-e040-e00a18064a99  ",
      "text/html": "<div>\n<style scoped>\n    .dataframe tbody tr th:only-of-type {\n        vertical-align: middle;\n    }\n\n    .dataframe tbody tr th {\n        vertical-align: top;\n    }\n\n    .dataframe thead th {\n        text-align: right;\n    }\n</style>\n<table border=\"1\" class=\"dataframe\">\n  <thead>\n    <tr style=\"text-align: right;\">\n      <th></th>\n      <th>id</th>\n      <th>menu_id</th>\n      <th>page_number</th>\n      <th>image_id</th>\n      <th>full_height</th>\n      <th>full_width</th>\n      <th>uuid</th>\n    </tr>\n  </thead>\n  <tbody>\n    <tr>\n      <th>0</th>\n      <td>119</td>\n      <td>12460</td>\n      <td>1.0</td>\n      <td>1603595</td>\n      <td>7230.0</td>\n      <td>5428.0</td>\n      <td>510d47e4-2955-a3d9-e040-e00a18064a99</td>\n    </tr>\n    <tr>\n      <th>1</th>\n      <td>120</td>\n      <td>12460</td>\n      <td>2.0</td>\n      <td>1603596</td>\n      <td>5428.0</td>\n      <td>7230.0</td>\n      <td>510d47e4-2956-a3d9-e040-e00a18064a99</td>\n    </tr>\n    <tr>\n      <th>2</th>\n      <td>121</td>\n      <td>12460</td>\n      <td>3.0</td>\n      <td>1603597</td>\n      <td>7230.0</td>\n      <td>5428.0</td>\n      <td>510d47e4-2957-a3d9-e040-e00a18064a99</td>\n    </tr>\n    <tr>\n      <th>3</th>\n      <td>122</td>\n      <td>12460</td>\n      <td>4.0</td>\n      <td>1603598</td>\n      <td>7230.0</td>\n      <td>5428.0</td>\n      <td>510d47e4-2958-a3d9-e040-e00a18064a99</td>\n    </tr>\n    <tr>\n      <th>4</th>\n      <td>123</td>\n      <td>12461</td>\n      <td>1.0</td>\n      <td>1603591</td>\n      <td>7230.0</td>\n      <td>5428.0</td>\n      <td>510d47e4-2959-a3d9-e040-e00a18064a99</td>\n    </tr>\n  </tbody>\n</table>\n</div>"
     },
     "metadata": {},
     "execution_count": 17
    }
   ],
   "source": [
    "menu_page = pd.read_csv(\"MenuPage.csv\")\n",
    "\n",
    "menu_page.head(5)"
   ]
  },
  {
   "cell_type": "code",
   "execution_count": 20,
   "metadata": {
    "tags": []
   },
   "outputs": [
    {
     "output_type": "execute_result",
     "data": {
      "text/plain": "      id name                     sponsor                 event       venue  \\\n0  12463  NaN               HOTEL EASTMAN             BREAKFAST  COMMERCIAL   \n1  12464  NaN            REPUBLICAN HOUSE              [DINNER]  COMMERCIAL   \n2  12465  NaN  NORDDEUTSCHER LLOYD BREMEN  FRUHSTUCK/BREAKFAST;  COMMERCIAL   \n3  12466  NaN  NORDDEUTSCHER LLOYD BREMEN                LUNCH;  COMMERCIAL   \n4  12467  NaN  NORDDEUTSCHER LLOYD BREMEN               DINNER;  COMMERCIAL   \n\n                                place         physical_description occasion  \\\n0                     HOT SPRINGS, AR              CARD; 4.75X7.5;  EASTER;   \n1                    MILWAUKEE, [WI];   CARD; ILLUS; COL; 7.0X9.0;  EASTER;   \n2  DAMPFER KAISER WILHELM DER GROSSE;    CARD; ILLU; COL; 5.5X8.0;      NaN   \n3  DAMPFER KAISER WILHELM DER GROSSE;    CARD; ILLU; COL; 5.5X8.0;      NaN   \n4  DAMPFER KAISER WILHELM DER GROSSE;  FOLDER; ILLU; COL; 5.5X7.5;      NaN   \n\n                                               notes call_number  keywords  \\\n0                                                NaN   1900-2822       NaN   \n1  WEDGEWOOD BLUE CARD; WHITE EMBOSSED GREEK KEY ...   1900-2825       NaN   \n2  MENU IN GERMAN AND ENGLISH; ILLUS, STEAMSHIP A...   1900-2827       NaN   \n3  MENU IN GERMAN AND ENGLISH; ILLUS, HARBOR SCEN...   1900-2828       NaN   \n4  MENU IN GERMAN AND ENGLISH; ILLUS, HARBOR SCEN...   1900-2829       NaN   \n\n   language        date                    location  location_type currency  \\\n0       NaN  1900-04-15               Hotel Eastman            NaN      NaN   \n1       NaN  1900-04-15            Republican House            NaN      NaN   \n2       NaN  1900-04-16  Norddeutscher Lloyd Bremen            NaN      NaN   \n3       NaN  1900-04-16  Norddeutscher Lloyd Bremen            NaN      NaN   \n4       NaN  1900-04-16  Norddeutscher Lloyd Bremen            NaN      NaN   \n\n  currency_symbol    status  page_count  dish_count  \n0             NaN  complete           2          67  \n1             NaN  complete           2          34  \n2             NaN  complete           2          84  \n3             NaN  complete           2          63  \n4             NaN  complete           4          33  ",
      "text/html": "<div>\n<style scoped>\n    .dataframe tbody tr th:only-of-type {\n        vertical-align: middle;\n    }\n\n    .dataframe tbody tr th {\n        vertical-align: top;\n    }\n\n    .dataframe thead th {\n        text-align: right;\n    }\n</style>\n<table border=\"1\" class=\"dataframe\">\n  <thead>\n    <tr style=\"text-align: right;\">\n      <th></th>\n      <th>id</th>\n      <th>name</th>\n      <th>sponsor</th>\n      <th>event</th>\n      <th>venue</th>\n      <th>place</th>\n      <th>physical_description</th>\n      <th>occasion</th>\n      <th>notes</th>\n      <th>call_number</th>\n      <th>keywords</th>\n      <th>language</th>\n      <th>date</th>\n      <th>location</th>\n      <th>location_type</th>\n      <th>currency</th>\n      <th>currency_symbol</th>\n      <th>status</th>\n      <th>page_count</th>\n      <th>dish_count</th>\n    </tr>\n  </thead>\n  <tbody>\n    <tr>\n      <th>0</th>\n      <td>12463</td>\n      <td>NaN</td>\n      <td>HOTEL EASTMAN</td>\n      <td>BREAKFAST</td>\n      <td>COMMERCIAL</td>\n      <td>HOT SPRINGS, AR</td>\n      <td>CARD; 4.75X7.5;</td>\n      <td>EASTER;</td>\n      <td>NaN</td>\n      <td>1900-2822</td>\n      <td>NaN</td>\n      <td>NaN</td>\n      <td>1900-04-15</td>\n      <td>Hotel Eastman</td>\n      <td>NaN</td>\n      <td>NaN</td>\n      <td>NaN</td>\n      <td>complete</td>\n      <td>2</td>\n      <td>67</td>\n    </tr>\n    <tr>\n      <th>1</th>\n      <td>12464</td>\n      <td>NaN</td>\n      <td>REPUBLICAN HOUSE</td>\n      <td>[DINNER]</td>\n      <td>COMMERCIAL</td>\n      <td>MILWAUKEE, [WI];</td>\n      <td>CARD; ILLUS; COL; 7.0X9.0;</td>\n      <td>EASTER;</td>\n      <td>WEDGEWOOD BLUE CARD; WHITE EMBOSSED GREEK KEY ...</td>\n      <td>1900-2825</td>\n      <td>NaN</td>\n      <td>NaN</td>\n      <td>1900-04-15</td>\n      <td>Republican House</td>\n      <td>NaN</td>\n      <td>NaN</td>\n      <td>NaN</td>\n      <td>complete</td>\n      <td>2</td>\n      <td>34</td>\n    </tr>\n    <tr>\n      <th>2</th>\n      <td>12465</td>\n      <td>NaN</td>\n      <td>NORDDEUTSCHER LLOYD BREMEN</td>\n      <td>FRUHSTUCK/BREAKFAST;</td>\n      <td>COMMERCIAL</td>\n      <td>DAMPFER KAISER WILHELM DER GROSSE;</td>\n      <td>CARD; ILLU; COL; 5.5X8.0;</td>\n      <td>NaN</td>\n      <td>MENU IN GERMAN AND ENGLISH; ILLUS, STEAMSHIP A...</td>\n      <td>1900-2827</td>\n      <td>NaN</td>\n      <td>NaN</td>\n      <td>1900-04-16</td>\n      <td>Norddeutscher Lloyd Bremen</td>\n      <td>NaN</td>\n      <td>NaN</td>\n      <td>NaN</td>\n      <td>complete</td>\n      <td>2</td>\n      <td>84</td>\n    </tr>\n    <tr>\n      <th>3</th>\n      <td>12466</td>\n      <td>NaN</td>\n      <td>NORDDEUTSCHER LLOYD BREMEN</td>\n      <td>LUNCH;</td>\n      <td>COMMERCIAL</td>\n      <td>DAMPFER KAISER WILHELM DER GROSSE;</td>\n      <td>CARD; ILLU; COL; 5.5X8.0;</td>\n      <td>NaN</td>\n      <td>MENU IN GERMAN AND ENGLISH; ILLUS, HARBOR SCEN...</td>\n      <td>1900-2828</td>\n      <td>NaN</td>\n      <td>NaN</td>\n      <td>1900-04-16</td>\n      <td>Norddeutscher Lloyd Bremen</td>\n      <td>NaN</td>\n      <td>NaN</td>\n      <td>NaN</td>\n      <td>complete</td>\n      <td>2</td>\n      <td>63</td>\n    </tr>\n    <tr>\n      <th>4</th>\n      <td>12467</td>\n      <td>NaN</td>\n      <td>NORDDEUTSCHER LLOYD BREMEN</td>\n      <td>DINNER;</td>\n      <td>COMMERCIAL</td>\n      <td>DAMPFER KAISER WILHELM DER GROSSE;</td>\n      <td>FOLDER; ILLU; COL; 5.5X7.5;</td>\n      <td>NaN</td>\n      <td>MENU IN GERMAN AND ENGLISH; ILLUS, HARBOR SCEN...</td>\n      <td>1900-2829</td>\n      <td>NaN</td>\n      <td>NaN</td>\n      <td>1900-04-16</td>\n      <td>Norddeutscher Lloyd Bremen</td>\n      <td>NaN</td>\n      <td>NaN</td>\n      <td>NaN</td>\n      <td>complete</td>\n      <td>4</td>\n      <td>33</td>\n    </tr>\n  </tbody>\n</table>\n</div>"
     },
     "metadata": {},
     "execution_count": 20
    }
   ],
   "source": [
    "menu = pd.read_csv(\"Menu.csv\")\n",
    "\n",
    "menu.head(5)"
   ]
  },
  {
   "cell_type": "markdown",
   "metadata": {},
   "source": [
    "# Data Filtering"
   ]
  },
  {
   "cell_type": "code",
   "execution_count": 23,
   "metadata": {},
   "outputs": [
    {
     "output_type": "execute_result",
     "data": {
      "text/plain": "   id  menu_page_id  price  high_price  dish_id               created_at  \\\n0   1          1389    0.4         NaN      1.0  2011-03-28 15:00:44 UTC   \n1   2          1389    0.6         NaN      2.0  2011-03-28 15:01:13 UTC   \n2   3          1389    0.4         NaN      3.0  2011-03-28 15:01:40 UTC   \n3   4          1389    0.5         NaN      4.0  2011-03-28 15:01:51 UTC   \n4   5          3079    0.5         1.0      5.0  2011-03-28 15:21:26 UTC   \n\n                updated_at      xpos      ypos  \n0  2011-04-19 04:33:15 UTC  0.111429  0.254735  \n1  2011-04-19 15:00:54 UTC  0.438571  0.254735  \n2  2011-04-19 19:10:05 UTC  0.140000  0.261922  \n3  2011-04-19 19:07:01 UTC  0.377143  0.262720  \n4  2011-04-13 15:25:27 UTC  0.105714  0.313178  ",
      "text/html": "<div>\n<style scoped>\n    .dataframe tbody tr th:only-of-type {\n        vertical-align: middle;\n    }\n\n    .dataframe tbody tr th {\n        vertical-align: top;\n    }\n\n    .dataframe thead th {\n        text-align: right;\n    }\n</style>\n<table border=\"1\" class=\"dataframe\">\n  <thead>\n    <tr style=\"text-align: right;\">\n      <th></th>\n      <th>id</th>\n      <th>menu_page_id</th>\n      <th>price</th>\n      <th>high_price</th>\n      <th>dish_id</th>\n      <th>created_at</th>\n      <th>updated_at</th>\n      <th>xpos</th>\n      <th>ypos</th>\n    </tr>\n  </thead>\n  <tbody>\n    <tr>\n      <th>0</th>\n      <td>1</td>\n      <td>1389</td>\n      <td>0.4</td>\n      <td>NaN</td>\n      <td>1.0</td>\n      <td>2011-03-28 15:00:44 UTC</td>\n      <td>2011-04-19 04:33:15 UTC</td>\n      <td>0.111429</td>\n      <td>0.254735</td>\n    </tr>\n    <tr>\n      <th>1</th>\n      <td>2</td>\n      <td>1389</td>\n      <td>0.6</td>\n      <td>NaN</td>\n      <td>2.0</td>\n      <td>2011-03-28 15:01:13 UTC</td>\n      <td>2011-04-19 15:00:54 UTC</td>\n      <td>0.438571</td>\n      <td>0.254735</td>\n    </tr>\n    <tr>\n      <th>2</th>\n      <td>3</td>\n      <td>1389</td>\n      <td>0.4</td>\n      <td>NaN</td>\n      <td>3.0</td>\n      <td>2011-03-28 15:01:40 UTC</td>\n      <td>2011-04-19 19:10:05 UTC</td>\n      <td>0.140000</td>\n      <td>0.261922</td>\n    </tr>\n    <tr>\n      <th>3</th>\n      <td>4</td>\n      <td>1389</td>\n      <td>0.5</td>\n      <td>NaN</td>\n      <td>4.0</td>\n      <td>2011-03-28 15:01:51 UTC</td>\n      <td>2011-04-19 19:07:01 UTC</td>\n      <td>0.377143</td>\n      <td>0.262720</td>\n    </tr>\n    <tr>\n      <th>4</th>\n      <td>5</td>\n      <td>3079</td>\n      <td>0.5</td>\n      <td>1.0</td>\n      <td>5.0</td>\n      <td>2011-03-28 15:21:26 UTC</td>\n      <td>2011-04-13 15:25:27 UTC</td>\n      <td>0.105714</td>\n      <td>0.313178</td>\n    </tr>\n  </tbody>\n</table>\n</div>"
     },
     "metadata": {},
     "execution_count": 23
    }
   ],
   "source": [
    "# Combining All the csv files to form a single dataset\n",
    "\n",
    "menu_item.join(dish,how=\"outer\",lsuffix='dish_id', rsuffix='id')\n",
    "menu_item.head()"
   ]
  },
  {
   "cell_type": "markdown",
   "metadata": {},
   "source": [
    "# Data Parsing"
   ]
  },
  {
   "cell_type": "code",
   "execution_count": null,
   "metadata": {},
   "outputs": [],
   "source": []
  },
  {
   "cell_type": "markdown",
   "metadata": {},
   "source": [
    "# Data Mining"
   ]
  },
  {
   "cell_type": "code",
   "execution_count": null,
   "metadata": {},
   "outputs": [],
   "source": []
  },
  {
   "cell_type": "markdown",
   "metadata": {},
   "source": [
    "# Data Representation"
   ]
  },
  {
   "cell_type": "code",
   "execution_count": null,
   "metadata": {},
   "outputs": [],
   "source": []
  },
  {
   "cell_type": "markdown",
   "metadata": {},
   "source": [
    "# Data Refining"
   ]
  },
  {
   "cell_type": "code",
   "execution_count": null,
   "metadata": {},
   "outputs": [],
   "source": []
  },
  {
   "cell_type": "markdown",
   "metadata": {},
   "source": [
    "# Data interaction"
   ]
  },
  {
   "cell_type": "code",
   "execution_count": null,
   "metadata": {},
   "outputs": [],
   "source": []
  }
 ],
 "metadata": {
  "language_info": {
   "codemirror_mode": {
    "name": "ipython",
    "version": 3
   },
   "file_extension": ".py",
   "mimetype": "text/x-python",
   "name": "python",
   "nbconvert_exporter": "python",
   "pygments_lexer": "ipython3",
   "version": 3
  },
  "orig_nbformat": 2,
  "kernelspec": {
   "name": "python_defaultSpec_1596279749041",
   "display_name": "Python 3.8.2 64-bit"
  }
 },
 "nbformat": 4,
 "nbformat_minor": 2
}