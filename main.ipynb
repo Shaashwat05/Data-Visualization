{
 "cells": [
  {
   "cell_type": "code",
   "execution_count": 2,
   "metadata": {},
   "outputs": [],
   "source": [
    "import numpy as np\n",
    "import pandas as pd \n",
    "import matplotlib.pyplot as plt \n",
    "import seaborn as sbn \n"
   ]
  },
  {
   "cell_type": "markdown",
   "metadata": {},
   "source": [
    "# Data Acquisition"
   ]
  },
  {
   "cell_type": "code",
   "execution_count": 7,
   "metadata": {
    "tags": []
   },
   "outputs": [
    {
     "output_type": "stream",
     "name": "stdout",
     "text": "id  menu_page_id  price  high_price  dish_id               created_at  \\\n0   1          1389    0.4         NaN      1.0  2011-03-28 15:00:44 UTC   \n1   2          1389    0.6         NaN      2.0  2011-03-28 15:01:13 UTC   \n2   3          1389    0.4         NaN      3.0  2011-03-28 15:01:40 UTC   \n3   4          1389    0.5         NaN      4.0  2011-03-28 15:01:51 UTC   \n4   5          3079    0.5         1.0      5.0  2011-03-28 15:21:26 UTC   \n\n                updated_at      xpos      ypos  \n0  2011-04-19 04:33:15 UTC  0.111429  0.254735  \n1  2011-04-19 15:00:54 UTC  0.438571  0.254735  \n2  2011-04-19 19:10:05 UTC  0.140000  0.261922  \n3  2011-04-19 19:07:01 UTC  0.377143  0.262720  \n4  2011-04-13 15:25:27 UTC  0.105714  0.313178  \n"
    }
   ],
   "source": [
    "menu_item = pd.read_csv(\"MenuItem.csv\")\n",
    "\n",
    "print(menu_item.head(5))"
   ]
  },
  {
   "cell_type": "code",
   "execution_count": 8,
   "metadata": {
    "tags": []
   },
   "outputs": [
    {
     "output_type": "stream",
     "name": "stdout",
     "text": "id                        name  description  menus_appeared  \\\n0   1  Consomme printaniere royal          NaN               8   \n1   2               Chicken gumbo          NaN             110   \n2   3         Tomato aux croutons          NaN              13   \n3   4             Onion au gratin          NaN              41   \n4   5                 St. Emilion          NaN              66   \n\n   times_appeared  first_appeared  last_appeared  lowest_price  highest_price  \n0               9            1897           1927          0.20            0.4  \n1             116            1895           1960          0.10            0.8  \n2              13            1893           1917          0.25            0.4  \n3              41            1900           1971          0.25            1.0  \n4              68            1881           1981          0.00           18.0  \n"
    }
   ],
   "source": [
    "dish = pd.read_csv(\"Dish.csv\")\n",
    "\n",
    "print(dish.head(5))"
   ]
  },
  {
   "cell_type": "code",
   "execution_count": 11,
   "metadata": {
    "tags": []
   },
   "outputs": [
    {
     "output_type": "stream",
     "name": "stdout",
     "text": "id  menu_id  page_number image_id  full_height  full_width  \\\n0  119    12460          1.0  1603595       7230.0      5428.0   \n1  120    12460          2.0  1603596       5428.0      7230.0   \n2  121    12460          3.0  1603597       7230.0      5428.0   \n3  122    12460          4.0  1603598       7230.0      5428.0   \n4  123    12461          1.0  1603591       7230.0      5428.0   \n\n                                   uuid  \n0  510d47e4-2955-a3d9-e040-e00a18064a99  \n1  510d47e4-2956-a3d9-e040-e00a18064a99  \n2  510d47e4-2957-a3d9-e040-e00a18064a99  \n3  510d47e4-2958-a3d9-e040-e00a18064a99  \n4  510d47e4-2959-a3d9-e040-e00a18064a99  \n"
    }
   ],
   "source": [
    "menu_page = pd.read_csv(\"MenuPage.csv\")\n",
    "\n",
    "print(menu_page.head(5))"
   ]
  },
  {
   "cell_type": "code",
   "execution_count": 12,
   "metadata": {
    "tags": []
   },
   "outputs": [
    {
     "output_type": "stream",
     "name": "stdout",
     "text": "id name                     sponsor                 event       venue  \\\n0  12463  NaN               HOTEL EASTMAN             BREAKFAST  COMMERCIAL   \n1  12464  NaN            REPUBLICAN HOUSE              [DINNER]  COMMERCIAL   \n2  12465  NaN  NORDDEUTSCHER LLOYD BREMEN  FRUHSTUCK/BREAKFAST;  COMMERCIAL   \n3  12466  NaN  NORDDEUTSCHER LLOYD BREMEN                LUNCH;  COMMERCIAL   \n4  12467  NaN  NORDDEUTSCHER LLOYD BREMEN               DINNER;  COMMERCIAL   \n\n                                place         physical_description occasion  \\\n0                     HOT SPRINGS, AR              CARD; 4.75X7.5;  EASTER;   \n1                    MILWAUKEE, [WI];   CARD; ILLUS; COL; 7.0X9.0;  EASTER;   \n2  DAMPFER KAISER WILHELM DER GROSSE;    CARD; ILLU; COL; 5.5X8.0;      NaN   \n3  DAMPFER KAISER WILHELM DER GROSSE;    CARD; ILLU; COL; 5.5X8.0;      NaN   \n4  DAMPFER KAISER WILHELM DER GROSSE;  FOLDER; ILLU; COL; 5.5X7.5;      NaN   \n\n                                               notes call_number  keywords  \\\n0                                                NaN   1900-2822       NaN   \n1  WEDGEWOOD BLUE CARD; WHITE EMBOSSED GREEK KEY ...   1900-2825       NaN   \n2  MENU IN GERMAN AND ENGLISH; ILLUS, STEAMSHIP A...   1900-2827       NaN   \n3  MENU IN GERMAN AND ENGLISH; ILLUS, HARBOR SCEN...   1900-2828       NaN   \n4  MENU IN GERMAN AND ENGLISH; ILLUS, HARBOR SCEN...   1900-2829       NaN   \n\n   language        date                    location  location_type currency  \\\n0       NaN  1900-04-15               Hotel Eastman            NaN      NaN   \n1       NaN  1900-04-15            Republican House            NaN      NaN   \n2       NaN  1900-04-16  Norddeutscher Lloyd Bremen            NaN      NaN   \n3       NaN  1900-04-16  Norddeutscher Lloyd Bremen            NaN      NaN   \n4       NaN  1900-04-16  Norddeutscher Lloyd Bremen            NaN      NaN   \n\n  currency_symbol    status  page_count  dish_count  \n0             NaN  complete           2          67  \n1             NaN  complete           2          34  \n2             NaN  complete           2          84  \n3             NaN  complete           2          63  \n4             NaN  complete           4          33  \n"
    }
   ],
   "source": [
    "menu = pd.read_csv(\"Menu.csv\")\n",
    "\n",
    "print(menu.head(5))"
   ]
  },
  {
   "cell_type": "markdown",
   "metadata": {},
   "source": [
    "# Data Filtering"
   ]
  },
  {
   "cell_type": "code",
   "execution_count": null,
   "metadata": {},
   "outputs": [],
   "source": []
  },
  {
   "cell_type": "markdown",
   "metadata": {},
   "source": [
    "# Data Parsing"
   ]
  },
  {
   "cell_type": "code",
   "execution_count": null,
   "metadata": {},
   "outputs": [],
   "source": []
  },
  {
   "cell_type": "markdown",
   "metadata": {},
   "source": [
    "# Data Mining"
   ]
  },
  {
   "cell_type": "code",
   "execution_count": null,
   "metadata": {},
   "outputs": [],
   "source": []
  },
  {
   "cell_type": "markdown",
   "metadata": {},
   "source": [
    "# Data Representation"
   ]
  },
  {
   "cell_type": "code",
   "execution_count": null,
   "metadata": {},
   "outputs": [],
   "source": []
  },
  {
   "cell_type": "markdown",
   "metadata": {},
   "source": [
    "# Data Refining"
   ]
  },
  {
   "cell_type": "code",
   "execution_count": null,
   "metadata": {},
   "outputs": [],
   "source": []
  },
  {
   "cell_type": "markdown",
   "metadata": {},
   "source": [
    "# Data interaction"
   ]
  },
  {
   "cell_type": "code",
   "execution_count": null,
   "metadata": {},
   "outputs": [],
   "source": []
  }
 ],
 "metadata": {
  "language_info": {
   "codemirror_mode": {
    "name": "ipython",
    "version": 3
   },
   "file_extension": ".py",
   "mimetype": "text/x-python",
   "name": "python",
   "nbconvert_exporter": "python",
   "pygments_lexer": "ipython3",
   "version": 3
  },
  "orig_nbformat": 2,
  "kernelspec": {
   "name": "python_defaultSpec_1596279749041",
   "display_name": "Python 3.8.2 64-bit"
  }
 },
 "nbformat": 4,
 "nbformat_minor": 2
}