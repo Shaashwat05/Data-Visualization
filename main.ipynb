{
 "cells": [
  {
   "cell_type": "code",
   "execution_count": 2,
   "metadata": {},
   "outputs": [],
   "source": [
    "import numpy as np\n",
    "import pandas as pd \n",
    "import matplotlib.pyplot as plt \n",
    "import seaborn as sbn \n"
   ]
  },
  {
   "cell_type": "markdown",
   "metadata": {},
   "source": [
    "# Data Acquisition"
   ]
  },
  {
   "cell_type": "code",
   "execution_count": 3,
   "metadata": {
    "tags": []
   },
   "outputs": [
    {
     "output_type": "execute_result",
     "data": {
      "text/plain": "   id  menu_page_id  price  high_price  dish_id               created_at  \\\n0   1          1389    0.4         NaN      1.0  2011-03-28 15:00:44 UTC   \n1   2          1389    0.6         NaN      2.0  2011-03-28 15:01:13 UTC   \n2   3          1389    0.4         NaN      3.0  2011-03-28 15:01:40 UTC   \n3   4          1389    0.5         NaN      4.0  2011-03-28 15:01:51 UTC   \n4   5          3079    0.5         1.0      5.0  2011-03-28 15:21:26 UTC   \n\n                updated_at      xpos      ypos  \n0  2011-04-19 04:33:15 UTC  0.111429  0.254735  \n1  2011-04-19 15:00:54 UTC  0.438571  0.254735  \n2  2011-04-19 19:10:05 UTC  0.140000  0.261922  \n3  2011-04-19 19:07:01 UTC  0.377143  0.262720  \n4  2011-04-13 15:25:27 UTC  0.105714  0.313178  ",
      "text/html": "<div>\n<style scoped>\n    .dataframe tbody tr th:only-of-type {\n        vertical-align: middle;\n    }\n\n    .dataframe tbody tr th {\n        vertical-align: top;\n    }\n\n    .dataframe thead th {\n        text-align: right;\n    }\n</style>\n<table border=\"1\" class=\"dataframe\">\n  <thead>\n    <tr style=\"text-align: right;\">\n      <th></th>\n      <th>id</th>\n      <th>menu_page_id</th>\n      <th>price</th>\n      <th>high_price</th>\n      <th>dish_id</th>\n      <th>created_at</th>\n      <th>updated_at</th>\n      <th>xpos</th>\n      <th>ypos</th>\n    </tr>\n  </thead>\n  <tbody>\n    <tr>\n      <th>0</th>\n      <td>1</td>\n      <td>1389</td>\n      <td>0.4</td>\n      <td>NaN</td>\n      <td>1.0</td>\n      <td>2011-03-28 15:00:44 UTC</td>\n      <td>2011-04-19 04:33:15 UTC</td>\n      <td>0.111429</td>\n      <td>0.254735</td>\n    </tr>\n    <tr>\n      <th>1</th>\n      <td>2</td>\n      <td>1389</td>\n      <td>0.6</td>\n      <td>NaN</td>\n      <td>2.0</td>\n      <td>2011-03-28 15:01:13 UTC</td>\n      <td>2011-04-19 15:00:54 UTC</td>\n      <td>0.438571</td>\n      <td>0.254735</td>\n    </tr>\n    <tr>\n      <th>2</th>\n      <td>3</td>\n      <td>1389</td>\n      <td>0.4</td>\n      <td>NaN</td>\n      <td>3.0</td>\n      <td>2011-03-28 15:01:40 UTC</td>\n      <td>2011-04-19 19:10:05 UTC</td>\n      <td>0.140000</td>\n      <td>0.261922</td>\n    </tr>\n    <tr>\n      <th>3</th>\n      <td>4</td>\n      <td>1389</td>\n      <td>0.5</td>\n      <td>NaN</td>\n      <td>4.0</td>\n      <td>2011-03-28 15:01:51 UTC</td>\n      <td>2011-04-19 19:07:01 UTC</td>\n      <td>0.377143</td>\n      <td>0.262720</td>\n    </tr>\n    <tr>\n      <th>4</th>\n      <td>5</td>\n      <td>3079</td>\n      <td>0.5</td>\n      <td>1.0</td>\n      <td>5.0</td>\n      <td>2011-03-28 15:21:26 UTC</td>\n      <td>2011-04-13 15:25:27 UTC</td>\n      <td>0.105714</td>\n      <td>0.313178</td>\n    </tr>\n  </tbody>\n</table>\n</div>"
     },
     "metadata": {},
     "execution_count": 3
    }
   ],
   "source": [
    "menu_item = pd.read_csv(\"MenuItem.csv\")\n",
    "\n",
    "menu_item.head(5)"
   ]
  },
  {
   "cell_type": "code",
   "execution_count": 4,
   "metadata": {
    "tags": []
   },
   "outputs": [
    {
     "output_type": "execute_result",
     "data": {
      "text/plain": "   id                        name  description  menus_appeared  \\\n0   1  Consomme printaniere royal          NaN               8   \n1   2               Chicken gumbo          NaN             110   \n2   3         Tomato aux croutons          NaN              13   \n3   4             Onion au gratin          NaN              41   \n4   5                 St. Emilion          NaN              66   \n\n   times_appeared  first_appeared  last_appeared  lowest_price  highest_price  \n0               9            1897           1927          0.20            0.4  \n1             116            1895           1960          0.10            0.8  \n2              13            1893           1917          0.25            0.4  \n3              41            1900           1971          0.25            1.0  \n4              68            1881           1981          0.00           18.0  ",
      "text/html": "<div>\n<style scoped>\n    .dataframe tbody tr th:only-of-type {\n        vertical-align: middle;\n    }\n\n    .dataframe tbody tr th {\n        vertical-align: top;\n    }\n\n    .dataframe thead th {\n        text-align: right;\n    }\n</style>\n<table border=\"1\" class=\"dataframe\">\n  <thead>\n    <tr style=\"text-align: right;\">\n      <th></th>\n      <th>id</th>\n      <th>name</th>\n      <th>description</th>\n      <th>menus_appeared</th>\n      <th>times_appeared</th>\n      <th>first_appeared</th>\n      <th>last_appeared</th>\n      <th>lowest_price</th>\n      <th>highest_price</th>\n    </tr>\n  </thead>\n  <tbody>\n    <tr>\n      <th>0</th>\n      <td>1</td>\n      <td>Consomme printaniere royal</td>\n      <td>NaN</td>\n      <td>8</td>\n      <td>9</td>\n      <td>1897</td>\n      <td>1927</td>\n      <td>0.20</td>\n      <td>0.4</td>\n    </tr>\n    <tr>\n      <th>1</th>\n      <td>2</td>\n      <td>Chicken gumbo</td>\n      <td>NaN</td>\n      <td>110</td>\n      <td>116</td>\n      <td>1895</td>\n      <td>1960</td>\n      <td>0.10</td>\n      <td>0.8</td>\n    </tr>\n    <tr>\n      <th>2</th>\n      <td>3</td>\n      <td>Tomato aux croutons</td>\n      <td>NaN</td>\n      <td>13</td>\n      <td>13</td>\n      <td>1893</td>\n      <td>1917</td>\n      <td>0.25</td>\n      <td>0.4</td>\n    </tr>\n    <tr>\n      <th>3</th>\n      <td>4</td>\n      <td>Onion au gratin</td>\n      <td>NaN</td>\n      <td>41</td>\n      <td>41</td>\n      <td>1900</td>\n      <td>1971</td>\n      <td>0.25</td>\n      <td>1.0</td>\n    </tr>\n    <tr>\n      <th>4</th>\n      <td>5</td>\n      <td>St. Emilion</td>\n      <td>NaN</td>\n      <td>66</td>\n      <td>68</td>\n      <td>1881</td>\n      <td>1981</td>\n      <td>0.00</td>\n      <td>18.0</td>\n    </tr>\n  </tbody>\n</table>\n</div>"
     },
     "metadata": {},
     "execution_count": 4
    }
   ],
   "source": [
    "dish = pd.read_csv(\"Dish.csv\")\n",
    "\n",
    "dish.head(5)"
   ]
  },
  {
   "cell_type": "code",
   "execution_count": 5,
   "metadata": {
    "tags": []
   },
   "outputs": [
    {
     "output_type": "execute_result",
     "data": {
      "text/plain": "    id  menu_id  page_number image_id  full_height  full_width  \\\n0  119    12460          1.0  1603595       7230.0      5428.0   \n1  120    12460          2.0  1603596       5428.0      7230.0   \n2  121    12460          3.0  1603597       7230.0      5428.0   \n3  122    12460          4.0  1603598       7230.0      5428.0   \n4  123    12461          1.0  1603591       7230.0      5428.0   \n\n                                   uuid  \n0  510d47e4-2955-a3d9-e040-e00a18064a99  \n1  510d47e4-2956-a3d9-e040-e00a18064a99  \n2  510d47e4-2957-a3d9-e040-e00a18064a99  \n3  510d47e4-2958-a3d9-e040-e00a18064a99  \n4  510d47e4-2959-a3d9-e040-e00a18064a99  ",
      "text/html": "<div>\n<style scoped>\n    .dataframe tbody tr th:only-of-type {\n        vertical-align: middle;\n    }\n\n    .dataframe tbody tr th {\n        vertical-align: top;\n    }\n\n    .dataframe thead th {\n        text-align: right;\n    }\n</style>\n<table border=\"1\" class=\"dataframe\">\n  <thead>\n    <tr style=\"text-align: right;\">\n      <th></th>\n      <th>id</th>\n      <th>menu_id</th>\n      <th>page_number</th>\n      <th>image_id</th>\n      <th>full_height</th>\n      <th>full_width</th>\n      <th>uuid</th>\n    </tr>\n  </thead>\n  <tbody>\n    <tr>\n      <th>0</th>\n      <td>119</td>\n      <td>12460</td>\n      <td>1.0</td>\n      <td>1603595</td>\n      <td>7230.0</td>\n      <td>5428.0</td>\n      <td>510d47e4-2955-a3d9-e040-e00a18064a99</td>\n    </tr>\n    <tr>\n      <th>1</th>\n      <td>120</td>\n      <td>12460</td>\n      <td>2.0</td>\n      <td>1603596</td>\n      <td>5428.0</td>\n      <td>7230.0</td>\n      <td>510d47e4-2956-a3d9-e040-e00a18064a99</td>\n    </tr>\n    <tr>\n      <th>2</th>\n      <td>121</td>\n      <td>12460</td>\n      <td>3.0</td>\n      <td>1603597</td>\n      <td>7230.0</td>\n      <td>5428.0</td>\n      <td>510d47e4-2957-a3d9-e040-e00a18064a99</td>\n    </tr>\n    <tr>\n      <th>3</th>\n      <td>122</td>\n      <td>12460</td>\n      <td>4.0</td>\n      <td>1603598</td>\n      <td>7230.0</td>\n      <td>5428.0</td>\n      <td>510d47e4-2958-a3d9-e040-e00a18064a99</td>\n    </tr>\n    <tr>\n      <th>4</th>\n      <td>123</td>\n      <td>12461</td>\n      <td>1.0</td>\n      <td>1603591</td>\n      <td>7230.0</td>\n      <td>5428.0</td>\n      <td>510d47e4-2959-a3d9-e040-e00a18064a99</td>\n    </tr>\n  </tbody>\n</table>\n</div>"
     },
     "metadata": {},
     "execution_count": 5
    }
   ],
   "source": [
    "menu_page = pd.read_csv(\"MenuPage.csv\")\n",
    "\n",
    "menu_page.head(5)"
   ]
  },
  {
   "cell_type": "code",
   "execution_count": 6,
   "metadata": {
    "tags": []
   },
   "outputs": [
    {
     "output_type": "execute_result",
     "data": {
      "text/plain": "       id name                                  sponsor                 event  \\\n0   12463  NaN                            HOTEL EASTMAN             BREAKFAST   \n1   12464  NaN                         REPUBLICAN HOUSE              [DINNER]   \n2   12465  NaN               NORDDEUTSCHER LLOYD BREMEN  FRUHSTUCK/BREAKFAST;   \n3   12466  NaN               NORDDEUTSCHER LLOYD BREMEN                LUNCH;   \n4   12467  NaN               NORDDEUTSCHER LLOYD BREMEN               DINNER;   \n5   12468  NaN         CANADIAN PACIFIC RAILWAY COMPANY              [DINNER]   \n6   12469  NaN                         HOTEL NETHERLAND                SUPPER   \n7   12470  NaN               NORDDEUTSCHER LLOYD BREMEN   FRUHSTUCK/BREAKFAST   \n8   12471  NaN               NORDDEUTSCHER LLOYD BREMEN                 LUNCH   \n9   12472  NaN               NORDDEUTSCHER LLOYD BREMEN              [DINNER]   \n10  12473  NaN                        HOTEL MARLBOROUGH         CAFE LUNCHEON   \n11  12474  NaN                        ALPHA OF ZETA PSI        ANNUAL BANQUET   \n12  12475  NaN                          MANHATTAN HOTEL                DINNER   \n13  12476  NaN           PACIFIC MAIL STEAMSHIP COMPANY                 DINNE   \n14  12477  NaN                    OCCIDENTAL & ORIENTAL             BREAKFAST   \n15  12478  NaN                                      NaN                   NaN   \n16  12479  NaN  OCCIDENTAL & ORIENTAL STEAMSHIP COMPANY                DINNER   \n17  12480  NaN         CANADIAN PACIFIC RAILWAY COMPANY             BREAKFAST   \n18  12481  NaN         CANADIAN PACIFIC RAILWAY COMPANY              LUNCHEON   \n19  12482  NaN                               NOVIOMAGUS                DINNER   \n\n         venue                                      place  \\\n0   COMMERCIAL                            HOT SPRINGS, AR   \n1   COMMERCIAL                           MILWAUKEE, [WI];   \n2   COMMERCIAL         DAMPFER KAISER WILHELM DER GROSSE;   \n3   COMMERCIAL         DAMPFER KAISER WILHELM DER GROSSE;   \n4   COMMERCIAL         DAMPFER KAISER WILHELM DER GROSSE;   \n5   COMMERCIAL                    R.M.S. EMPRESS OF CHINA   \n6   COMMERCIAL                            NEW YORK, [NY];   \n7   COMMERCIAL  SCHNELLDAMPFER KAISER WILHELM DER GROSSE;   \n8   COMMERCIAL         DAMPFER KAISER WILHELM DER GROSSE;   \n9   COMMERCIAL         DAMPFER KAISER WILHELM DER GROSSE;   \n10  COMMERCIAL                             [NEW YORK, NY]   \n11  COMMERCIAL               DELMONICO'S, [NEW YORK, NY];   \n12  COMMERCIAL                               NEW YORK, NY   \n13  COMMERCIAL                        S.S. \"CITY OF PARA\"   \n14  COMMERCIAL                               S.S. \"DORIC\"   \n15         NaN                                        NaN   \n16  COMMERCIAL                               S.S. \"DORIC\"   \n17  COMMERCIAL                  R.M.S. \"EMPRESS OF CHINA\"   \n18  COMMERCIAL                  R.M.S. \"EMPRESS OF CHINA\"   \n19         NaN      FREEMASONS' TAVERN, [LONDON, ENGLAND]   \n\n                physical_description occasion  \\\n0                    CARD; 4.75X7.5;  EASTER;   \n1         CARD; ILLUS; COL; 7.0X9.0;  EASTER;   \n2          CARD; ILLU; COL; 5.5X8.0;      NaN   \n3          CARD; ILLU; COL; 5.5X8.0;      NaN   \n4        FOLDER; ILLU; COL; 5.5X7.5;      NaN   \n5       CARD; ILLUS; COL; 4.75X7.25;      NaN   \n6        CARD; ILLUS; COL; 6.0X8.75;      NaN   \n7   BROADSIDE; ILLUS; COL; 5.5X8.50;      NaN   \n8   BROADSIDE; ILLUS; COL; 5.5X8.50;      NaN   \n9       FOLDER; ILLUS; COL; 5.5X7.5;      NaN   \n10       CARD; ILLUS; COL; 4.25X5.5;      NaN   \n11     BOOKLET; ILLUS; COL; 5.5X7.0;      NaN   \n12               CARD; ILLUS; 6X9.5;      NaN   \n13            FOLDER; ILLUS; 6X9.25;      NaN   \n14        BROADSIDE; ILLUS; 5.5X8.5;      NaN   \n15                               NaN      NaN   \n16           FOLDER; ILLUS; 5.5X8.5;      NaN   \n17          CARD; ILLUS; COL; 4.5X7;      NaN   \n18          CARD; ILLUS; COL; 4.5X7;      NaN   \n19                  CARD; 4.25X6.25;      NaN   \n\n                                                notes call_number  keywords  \\\n0                                                 NaN   1900-2822       NaN   \n1   WEDGEWOOD BLUE CARD; WHITE EMBOSSED GREEK KEY ...   1900-2825       NaN   \n2   MENU IN GERMAN AND ENGLISH; ILLUS, STEAMSHIP A...   1900-2827       NaN   \n3   MENU IN GERMAN AND ENGLISH; ILLUS, HARBOR SCEN...   1900-2828       NaN   \n4   MENU IN GERMAN AND ENGLISH; ILLUS, HARBOR SCEN...   1900-2829       NaN   \n5                ILLUS, RED AND WHITE CHECKERED FLAG;   1900-2831       NaN   \n6                   HOTEL CREST IN BLUE; PRICED MENU;   1900-2838       NaN   \n7   MENU IN GERMAN AND ENGLISH; ILLUS, LIGHTHOUSE;...   1900-2839       NaN   \n8   MENU IN GERMAN AND ENGLISH; ILLUS, SAILING SHI...   1900-2840       NaN   \n9   MENU IN GERMAN AND ENGLISH; ILLUS, HARBOR; LIG...   1900-2841       NaN   \n10                               HOTEL CREST IN BLUE;   1900-2843       NaN   \n11  VELLUM COVER; CREST OF ZETA PSI; TIED WITH BLU...   1900-2844       NaN   \n12     A LA CARTE DU JOUR; HOTEL SEAL AT TOP OF MENU;   1900-2847       NaN   \n13                                 DECORATIVE BORDER;   1900-2849       NaN   \n14  HANDWRITTEN; STEAMSHIP COMPANY FLAG AT TOP OF ...   1900-2851       NaN   \n15                                                NaN         NaN       NaN   \n16           HANDWRITTEN; MARITIME INSIGNIA ON COVER;   1900-2852       NaN   \n17  MENU ITEMS NUMBERED; COMPANY FLAG AT TOP OF MENU;   1900-2854       NaN   \n18  MENU ITEMS NUMBERED; COMPANY FLAG AT TOP OF MENU;   1900-2855       NaN   \n19  FRENCH; [LOCATION INFO HANDWRITTEN ON BACK OF ...   1900-2856       NaN   \n\n    language        date                                 location  \\\n0        NaN  1900-04-15                            Hotel Eastman   \n1        NaN  1900-04-15                         Republican House   \n2        NaN  1900-04-16               Norddeutscher Lloyd Bremen   \n3        NaN  1900-04-16               Norddeutscher Lloyd Bremen   \n4        NaN  1900-04-16               Norddeutscher Lloyd Bremen   \n5        NaN  1900-04-16         Canadian Pacific Railway Company   \n6        NaN  1900-04-16                         Hotel Netherland   \n7        NaN  1900-04-17               Norddeutscher Lloyd Bremen   \n8        NaN  1900-04-17               Norddeutscher Lloyd Bremen   \n9        NaN  1900-04-17               Norddeutscher Lloyd Bremen   \n10       NaN  1900-04-17                        Hotel Marlborough   \n11       NaN  1900-04-17                        Alpha Of Zeta Psi   \n12       NaN  1900-04-18                          Manhattan Hotel   \n13       NaN  1900-04-18           Pacific Mail Steamship Company   \n14       NaN  1900-04-18                    Occidental & Oriental   \n15       NaN  1900-04-18                    Occidental & Oriental   \n16       NaN  1900-04-18  Occidental & Oriental Steamship Company   \n17       NaN  1900-04-18         Canadian Pacific Railway Company   \n18       NaN  1900-04-18         Canadian Pacific Railway Company   \n19       NaN  1900-04-18                               Noviomagus   \n\n    location_type currency currency_symbol    status  page_count  dish_count  \n0             NaN      NaN             NaN  complete           2          67  \n1             NaN      NaN             NaN  complete           2          34  \n2             NaN      NaN             NaN  complete           2          84  \n3             NaN      NaN             NaN  complete           2          63  \n4             NaN      NaN             NaN  complete           4          33  \n5             NaN      NaN             NaN  complete           2          37  \n6             NaN  Dollars               $  complete           2         144  \n7             NaN      NaN             NaN  complete           2          80  \n8             NaN      NaN             NaN  complete           2          67  \n9             NaN      NaN             NaN  complete           4          29  \n10            NaN      NaN             NaN  complete           2          19  \n11            NaN  Dollars               $  complete          12          38  \n12            NaN  Dollars               $  complete           2         176  \n13            NaN      NaN             NaN  complete           4          21  \n14            NaN      NaN             NaN  complete           2          24  \n15            NaN      NaN             NaN  complete           2          24  \n16            NaN      NaN             NaN  complete           4          44  \n17            NaN      NaN             NaN  complete           2          37  \n18            NaN      NaN             NaN  complete           2          42  \n19            NaN      NaN             NaN  complete           2          16  ",
      "text/html": "<div>\n<style scoped>\n    .dataframe tbody tr th:only-of-type {\n        vertical-align: middle;\n    }\n\n    .dataframe tbody tr th {\n        vertical-align: top;\n    }\n\n    .dataframe thead th {\n        text-align: right;\n    }\n</style>\n<table border=\"1\" class=\"dataframe\">\n  <thead>\n    <tr style=\"text-align: right;\">\n      <th></th>\n      <th>id</th>\n      <th>name</th>\n      <th>sponsor</th>\n      <th>event</th>\n      <th>venue</th>\n      <th>place</th>\n      <th>physical_description</th>\n      <th>occasion</th>\n      <th>notes</th>\n      <th>call_number</th>\n      <th>keywords</th>\n      <th>language</th>\n      <th>date</th>\n      <th>location</th>\n      <th>location_type</th>\n      <th>currency</th>\n      <th>currency_symbol</th>\n      <th>status</th>\n      <th>page_count</th>\n      <th>dish_count</th>\n    </tr>\n  </thead>\n  <tbody>\n    <tr>\n      <th>0</th>\n      <td>12463</td>\n      <td>NaN</td>\n      <td>HOTEL EASTMAN</td>\n      <td>BREAKFAST</td>\n      <td>COMMERCIAL</td>\n      <td>HOT SPRINGS, AR</td>\n      <td>CARD; 4.75X7.5;</td>\n      <td>EASTER;</td>\n      <td>NaN</td>\n      <td>1900-2822</td>\n      <td>NaN</td>\n      <td>NaN</td>\n      <td>1900-04-15</td>\n      <td>Hotel Eastman</td>\n      <td>NaN</td>\n      <td>NaN</td>\n      <td>NaN</td>\n      <td>complete</td>\n      <td>2</td>\n      <td>67</td>\n    </tr>\n    <tr>\n      <th>1</th>\n      <td>12464</td>\n      <td>NaN</td>\n      <td>REPUBLICAN HOUSE</td>\n      <td>[DINNER]</td>\n      <td>COMMERCIAL</td>\n      <td>MILWAUKEE, [WI];</td>\n      <td>CARD; ILLUS; COL; 7.0X9.0;</td>\n      <td>EASTER;</td>\n      <td>WEDGEWOOD BLUE CARD; WHITE EMBOSSED GREEK KEY ...</td>\n      <td>1900-2825</td>\n      <td>NaN</td>\n      <td>NaN</td>\n      <td>1900-04-15</td>\n      <td>Republican House</td>\n      <td>NaN</td>\n      <td>NaN</td>\n      <td>NaN</td>\n      <td>complete</td>\n      <td>2</td>\n      <td>34</td>\n    </tr>\n    <tr>\n      <th>2</th>\n      <td>12465</td>\n      <td>NaN</td>\n      <td>NORDDEUTSCHER LLOYD BREMEN</td>\n      <td>FRUHSTUCK/BREAKFAST;</td>\n      <td>COMMERCIAL</td>\n      <td>DAMPFER KAISER WILHELM DER GROSSE;</td>\n      <td>CARD; ILLU; COL; 5.5X8.0;</td>\n      <td>NaN</td>\n      <td>MENU IN GERMAN AND ENGLISH; ILLUS, STEAMSHIP A...</td>\n      <td>1900-2827</td>\n      <td>NaN</td>\n      <td>NaN</td>\n      <td>1900-04-16</td>\n      <td>Norddeutscher Lloyd Bremen</td>\n      <td>NaN</td>\n      <td>NaN</td>\n      <td>NaN</td>\n      <td>complete</td>\n      <td>2</td>\n      <td>84</td>\n    </tr>\n    <tr>\n      <th>3</th>\n      <td>12466</td>\n      <td>NaN</td>\n      <td>NORDDEUTSCHER LLOYD BREMEN</td>\n      <td>LUNCH;</td>\n      <td>COMMERCIAL</td>\n      <td>DAMPFER KAISER WILHELM DER GROSSE;</td>\n      <td>CARD; ILLU; COL; 5.5X8.0;</td>\n      <td>NaN</td>\n      <td>MENU IN GERMAN AND ENGLISH; ILLUS, HARBOR SCEN...</td>\n      <td>1900-2828</td>\n      <td>NaN</td>\n      <td>NaN</td>\n      <td>1900-04-16</td>\n      <td>Norddeutscher Lloyd Bremen</td>\n      <td>NaN</td>\n      <td>NaN</td>\n      <td>NaN</td>\n      <td>complete</td>\n      <td>2</td>\n      <td>63</td>\n    </tr>\n    <tr>\n      <th>4</th>\n      <td>12467</td>\n      <td>NaN</td>\n      <td>NORDDEUTSCHER LLOYD BREMEN</td>\n      <td>DINNER;</td>\n      <td>COMMERCIAL</td>\n      <td>DAMPFER KAISER WILHELM DER GROSSE;</td>\n      <td>FOLDER; ILLU; COL; 5.5X7.5;</td>\n      <td>NaN</td>\n      <td>MENU IN GERMAN AND ENGLISH; ILLUS, HARBOR SCEN...</td>\n      <td>1900-2829</td>\n      <td>NaN</td>\n      <td>NaN</td>\n      <td>1900-04-16</td>\n      <td>Norddeutscher Lloyd Bremen</td>\n      <td>NaN</td>\n      <td>NaN</td>\n      <td>NaN</td>\n      <td>complete</td>\n      <td>4</td>\n      <td>33</td>\n    </tr>\n    <tr>\n      <th>5</th>\n      <td>12468</td>\n      <td>NaN</td>\n      <td>CANADIAN PACIFIC RAILWAY COMPANY</td>\n      <td>[DINNER]</td>\n      <td>COMMERCIAL</td>\n      <td>R.M.S. EMPRESS OF CHINA</td>\n      <td>CARD; ILLUS; COL; 4.75X7.25;</td>\n      <td>NaN</td>\n      <td>ILLUS, RED AND WHITE CHECKERED FLAG;</td>\n      <td>1900-2831</td>\n      <td>NaN</td>\n      <td>NaN</td>\n      <td>1900-04-16</td>\n      <td>Canadian Pacific Railway Company</td>\n      <td>NaN</td>\n      <td>NaN</td>\n      <td>NaN</td>\n      <td>complete</td>\n      <td>2</td>\n      <td>37</td>\n    </tr>\n    <tr>\n      <th>6</th>\n      <td>12469</td>\n      <td>NaN</td>\n      <td>HOTEL NETHERLAND</td>\n      <td>SUPPER</td>\n      <td>COMMERCIAL</td>\n      <td>NEW YORK, [NY];</td>\n      <td>CARD; ILLUS; COL; 6.0X8.75;</td>\n      <td>NaN</td>\n      <td>HOTEL CREST IN BLUE; PRICED MENU;</td>\n      <td>1900-2838</td>\n      <td>NaN</td>\n      <td>NaN</td>\n      <td>1900-04-16</td>\n      <td>Hotel Netherland</td>\n      <td>NaN</td>\n      <td>Dollars</td>\n      <td>$</td>\n      <td>complete</td>\n      <td>2</td>\n      <td>144</td>\n    </tr>\n    <tr>\n      <th>7</th>\n      <td>12470</td>\n      <td>NaN</td>\n      <td>NORDDEUTSCHER LLOYD BREMEN</td>\n      <td>FRUHSTUCK/BREAKFAST</td>\n      <td>COMMERCIAL</td>\n      <td>SCHNELLDAMPFER KAISER WILHELM DER GROSSE;</td>\n      <td>BROADSIDE; ILLUS; COL; 5.5X8.50;</td>\n      <td>NaN</td>\n      <td>MENU IN GERMAN AND ENGLISH; ILLUS, LIGHTHOUSE;...</td>\n      <td>1900-2839</td>\n      <td>NaN</td>\n      <td>NaN</td>\n      <td>1900-04-17</td>\n      <td>Norddeutscher Lloyd Bremen</td>\n      <td>NaN</td>\n      <td>NaN</td>\n      <td>NaN</td>\n      <td>complete</td>\n      <td>2</td>\n      <td>80</td>\n    </tr>\n    <tr>\n      <th>8</th>\n      <td>12471</td>\n      <td>NaN</td>\n      <td>NORDDEUTSCHER LLOYD BREMEN</td>\n      <td>LUNCH</td>\n      <td>COMMERCIAL</td>\n      <td>DAMPFER KAISER WILHELM DER GROSSE;</td>\n      <td>BROADSIDE; ILLUS; COL; 5.5X8.50;</td>\n      <td>NaN</td>\n      <td>MENU IN GERMAN AND ENGLISH; ILLUS, SAILING SHI...</td>\n      <td>1900-2840</td>\n      <td>NaN</td>\n      <td>NaN</td>\n      <td>1900-04-17</td>\n      <td>Norddeutscher Lloyd Bremen</td>\n      <td>NaN</td>\n      <td>NaN</td>\n      <td>NaN</td>\n      <td>complete</td>\n      <td>2</td>\n      <td>67</td>\n    </tr>\n    <tr>\n      <th>9</th>\n      <td>12472</td>\n      <td>NaN</td>\n      <td>NORDDEUTSCHER LLOYD BREMEN</td>\n      <td>[DINNER]</td>\n      <td>COMMERCIAL</td>\n      <td>DAMPFER KAISER WILHELM DER GROSSE;</td>\n      <td>FOLDER; ILLUS; COL; 5.5X7.5;</td>\n      <td>NaN</td>\n      <td>MENU IN GERMAN AND ENGLISH; ILLUS, HARBOR; LIG...</td>\n      <td>1900-2841</td>\n      <td>NaN</td>\n      <td>NaN</td>\n      <td>1900-04-17</td>\n      <td>Norddeutscher Lloyd Bremen</td>\n      <td>NaN</td>\n      <td>NaN</td>\n      <td>NaN</td>\n      <td>complete</td>\n      <td>4</td>\n      <td>29</td>\n    </tr>\n    <tr>\n      <th>10</th>\n      <td>12473</td>\n      <td>NaN</td>\n      <td>HOTEL MARLBOROUGH</td>\n      <td>CAFE LUNCHEON</td>\n      <td>COMMERCIAL</td>\n      <td>[NEW YORK, NY]</td>\n      <td>CARD; ILLUS; COL; 4.25X5.5;</td>\n      <td>NaN</td>\n      <td>HOTEL CREST IN BLUE;</td>\n      <td>1900-2843</td>\n      <td>NaN</td>\n      <td>NaN</td>\n      <td>1900-04-17</td>\n      <td>Hotel Marlborough</td>\n      <td>NaN</td>\n      <td>NaN</td>\n      <td>NaN</td>\n      <td>complete</td>\n      <td>2</td>\n      <td>19</td>\n    </tr>\n    <tr>\n      <th>11</th>\n      <td>12474</td>\n      <td>NaN</td>\n      <td>ALPHA OF ZETA PSI</td>\n      <td>ANNUAL BANQUET</td>\n      <td>COMMERCIAL</td>\n      <td>DELMONICO'S, [NEW YORK, NY];</td>\n      <td>BOOKLET; ILLUS; COL; 5.5X7.0;</td>\n      <td>NaN</td>\n      <td>VELLUM COVER; CREST OF ZETA PSI; TIED WITH BLU...</td>\n      <td>1900-2844</td>\n      <td>NaN</td>\n      <td>NaN</td>\n      <td>1900-04-17</td>\n      <td>Alpha Of Zeta Psi</td>\n      <td>NaN</td>\n      <td>Dollars</td>\n      <td>$</td>\n      <td>complete</td>\n      <td>12</td>\n      <td>38</td>\n    </tr>\n    <tr>\n      <th>12</th>\n      <td>12475</td>\n      <td>NaN</td>\n      <td>MANHATTAN HOTEL</td>\n      <td>DINNER</td>\n      <td>COMMERCIAL</td>\n      <td>NEW YORK, NY</td>\n      <td>CARD; ILLUS; 6X9.5;</td>\n      <td>NaN</td>\n      <td>A LA CARTE DU JOUR; HOTEL SEAL AT TOP OF MENU;</td>\n      <td>1900-2847</td>\n      <td>NaN</td>\n      <td>NaN</td>\n      <td>1900-04-18</td>\n      <td>Manhattan Hotel</td>\n      <td>NaN</td>\n      <td>Dollars</td>\n      <td>$</td>\n      <td>complete</td>\n      <td>2</td>\n      <td>176</td>\n    </tr>\n    <tr>\n      <th>13</th>\n      <td>12476</td>\n      <td>NaN</td>\n      <td>PACIFIC MAIL STEAMSHIP COMPANY</td>\n      <td>DINNE</td>\n      <td>COMMERCIAL</td>\n      <td>S.S. \"CITY OF PARA\"</td>\n      <td>FOLDER; ILLUS; 6X9.25;</td>\n      <td>NaN</td>\n      <td>DECORATIVE BORDER;</td>\n      <td>1900-2849</td>\n      <td>NaN</td>\n      <td>NaN</td>\n      <td>1900-04-18</td>\n      <td>Pacific Mail Steamship Company</td>\n      <td>NaN</td>\n      <td>NaN</td>\n      <td>NaN</td>\n      <td>complete</td>\n      <td>4</td>\n      <td>21</td>\n    </tr>\n    <tr>\n      <th>14</th>\n      <td>12477</td>\n      <td>NaN</td>\n      <td>OCCIDENTAL &amp; ORIENTAL</td>\n      <td>BREAKFAST</td>\n      <td>COMMERCIAL</td>\n      <td>S.S. \"DORIC\"</td>\n      <td>BROADSIDE; ILLUS; 5.5X8.5;</td>\n      <td>NaN</td>\n      <td>HANDWRITTEN; STEAMSHIP COMPANY FLAG AT TOP OF ...</td>\n      <td>1900-2851</td>\n      <td>NaN</td>\n      <td>NaN</td>\n      <td>1900-04-18</td>\n      <td>Occidental &amp; Oriental</td>\n      <td>NaN</td>\n      <td>NaN</td>\n      <td>NaN</td>\n      <td>complete</td>\n      <td>2</td>\n      <td>24</td>\n    </tr>\n    <tr>\n      <th>15</th>\n      <td>12478</td>\n      <td>NaN</td>\n      <td>NaN</td>\n      <td>NaN</td>\n      <td>NaN</td>\n      <td>NaN</td>\n      <td>NaN</td>\n      <td>NaN</td>\n      <td>NaN</td>\n      <td>NaN</td>\n      <td>NaN</td>\n      <td>NaN</td>\n      <td>1900-04-18</td>\n      <td>Occidental &amp; Oriental</td>\n      <td>NaN</td>\n      <td>NaN</td>\n      <td>NaN</td>\n      <td>complete</td>\n      <td>2</td>\n      <td>24</td>\n    </tr>\n    <tr>\n      <th>16</th>\n      <td>12479</td>\n      <td>NaN</td>\n      <td>OCCIDENTAL &amp; ORIENTAL STEAMSHIP COMPANY</td>\n      <td>DINNER</td>\n      <td>COMMERCIAL</td>\n      <td>S.S. \"DORIC\"</td>\n      <td>FOLDER; ILLUS; 5.5X8.5;</td>\n      <td>NaN</td>\n      <td>HANDWRITTEN; MARITIME INSIGNIA ON COVER;</td>\n      <td>1900-2852</td>\n      <td>NaN</td>\n      <td>NaN</td>\n      <td>1900-04-18</td>\n      <td>Occidental &amp; Oriental Steamship Company</td>\n      <td>NaN</td>\n      <td>NaN</td>\n      <td>NaN</td>\n      <td>complete</td>\n      <td>4</td>\n      <td>44</td>\n    </tr>\n    <tr>\n      <th>17</th>\n      <td>12480</td>\n      <td>NaN</td>\n      <td>CANADIAN PACIFIC RAILWAY COMPANY</td>\n      <td>BREAKFAST</td>\n      <td>COMMERCIAL</td>\n      <td>R.M.S. \"EMPRESS OF CHINA\"</td>\n      <td>CARD; ILLUS; COL; 4.5X7;</td>\n      <td>NaN</td>\n      <td>MENU ITEMS NUMBERED; COMPANY FLAG AT TOP OF MENU;</td>\n      <td>1900-2854</td>\n      <td>NaN</td>\n      <td>NaN</td>\n      <td>1900-04-18</td>\n      <td>Canadian Pacific Railway Company</td>\n      <td>NaN</td>\n      <td>NaN</td>\n      <td>NaN</td>\n      <td>complete</td>\n      <td>2</td>\n      <td>37</td>\n    </tr>\n    <tr>\n      <th>18</th>\n      <td>12481</td>\n      <td>NaN</td>\n      <td>CANADIAN PACIFIC RAILWAY COMPANY</td>\n      <td>LUNCHEON</td>\n      <td>COMMERCIAL</td>\n      <td>R.M.S. \"EMPRESS OF CHINA\"</td>\n      <td>CARD; ILLUS; COL; 4.5X7;</td>\n      <td>NaN</td>\n      <td>MENU ITEMS NUMBERED; COMPANY FLAG AT TOP OF MENU;</td>\n      <td>1900-2855</td>\n      <td>NaN</td>\n      <td>NaN</td>\n      <td>1900-04-18</td>\n      <td>Canadian Pacific Railway Company</td>\n      <td>NaN</td>\n      <td>NaN</td>\n      <td>NaN</td>\n      <td>complete</td>\n      <td>2</td>\n      <td>42</td>\n    </tr>\n    <tr>\n      <th>19</th>\n      <td>12482</td>\n      <td>NaN</td>\n      <td>NOVIOMAGUS</td>\n      <td>DINNER</td>\n      <td>NaN</td>\n      <td>FREEMASONS' TAVERN, [LONDON, ENGLAND]</td>\n      <td>CARD; 4.25X6.25;</td>\n      <td>NaN</td>\n      <td>FRENCH; [LOCATION INFO HANDWRITTEN ON BACK OF ...</td>\n      <td>1900-2856</td>\n      <td>NaN</td>\n      <td>NaN</td>\n      <td>1900-04-18</td>\n      <td>Noviomagus</td>\n      <td>NaN</td>\n      <td>NaN</td>\n      <td>NaN</td>\n      <td>complete</td>\n      <td>2</td>\n      <td>16</td>\n    </tr>\n  </tbody>\n</table>\n</div>"
     },
     "metadata": {},
     "execution_count": 6
    }
   ],
   "source": [
    "menu = pd.read_csv(\"Menu.csv\")\n",
    "\n",
    "menu.head(20)"
   ]
  },
  {
   "cell_type": "markdown",
   "metadata": {},
   "source": [
    "# Data Filtering"
   ]
  },
  {
   "cell_type": "code",
   "execution_count": 7,
   "metadata": {},
   "outputs": [
    {
     "output_type": "execute_result",
     "data": {
      "text/plain": "   id  menu_page_id  price  high_price  dish_id               created_at  \\\n0   1          1389    0.4         NaN      1.0  2011-03-28 15:00:44 UTC   \n1   2          1389    0.6         NaN      2.0  2011-03-28 15:01:13 UTC   \n2   3          1389    0.4         NaN      3.0  2011-03-28 15:01:40 UTC   \n3   4          1389    0.5         NaN      4.0  2011-03-28 15:01:51 UTC   \n4   5          3079    0.5         1.0      5.0  2011-03-28 15:21:26 UTC   \n\n                updated_at      xpos      ypos  \n0  2011-04-19 04:33:15 UTC  0.111429  0.254735  \n1  2011-04-19 15:00:54 UTC  0.438571  0.254735  \n2  2011-04-19 19:10:05 UTC  0.140000  0.261922  \n3  2011-04-19 19:07:01 UTC  0.377143  0.262720  \n4  2011-04-13 15:25:27 UTC  0.105714  0.313178  ",
      "text/html": "<div>\n<style scoped>\n    .dataframe tbody tr th:only-of-type {\n        vertical-align: middle;\n    }\n\n    .dataframe tbody tr th {\n        vertical-align: top;\n    }\n\n    .dataframe thead th {\n        text-align: right;\n    }\n</style>\n<table border=\"1\" class=\"dataframe\">\n  <thead>\n    <tr style=\"text-align: right;\">\n      <th></th>\n      <th>id</th>\n      <th>menu_page_id</th>\n      <th>price</th>\n      <th>high_price</th>\n      <th>dish_id</th>\n      <th>created_at</th>\n      <th>updated_at</th>\n      <th>xpos</th>\n      <th>ypos</th>\n    </tr>\n  </thead>\n  <tbody>\n    <tr>\n      <th>0</th>\n      <td>1</td>\n      <td>1389</td>\n      <td>0.4</td>\n      <td>NaN</td>\n      <td>1.0</td>\n      <td>2011-03-28 15:00:44 UTC</td>\n      <td>2011-04-19 04:33:15 UTC</td>\n      <td>0.111429</td>\n      <td>0.254735</td>\n    </tr>\n    <tr>\n      <th>1</th>\n      <td>2</td>\n      <td>1389</td>\n      <td>0.6</td>\n      <td>NaN</td>\n      <td>2.0</td>\n      <td>2011-03-28 15:01:13 UTC</td>\n      <td>2011-04-19 15:00:54 UTC</td>\n      <td>0.438571</td>\n      <td>0.254735</td>\n    </tr>\n    <tr>\n      <th>2</th>\n      <td>3</td>\n      <td>1389</td>\n      <td>0.4</td>\n      <td>NaN</td>\n      <td>3.0</td>\n      <td>2011-03-28 15:01:40 UTC</td>\n      <td>2011-04-19 19:10:05 UTC</td>\n      <td>0.140000</td>\n      <td>0.261922</td>\n    </tr>\n    <tr>\n      <th>3</th>\n      <td>4</td>\n      <td>1389</td>\n      <td>0.5</td>\n      <td>NaN</td>\n      <td>4.0</td>\n      <td>2011-03-28 15:01:51 UTC</td>\n      <td>2011-04-19 19:07:01 UTC</td>\n      <td>0.377143</td>\n      <td>0.262720</td>\n    </tr>\n    <tr>\n      <th>4</th>\n      <td>5</td>\n      <td>3079</td>\n      <td>0.5</td>\n      <td>1.0</td>\n      <td>5.0</td>\n      <td>2011-03-28 15:21:26 UTC</td>\n      <td>2011-04-13 15:25:27 UTC</td>\n      <td>0.105714</td>\n      <td>0.313178</td>\n    </tr>\n  </tbody>\n</table>\n</div>"
     },
     "metadata": {},
     "execution_count": 7
    }
   ],
   "source": [
    "# Combining All the csv files to form a single dataset\n",
    "\n",
    "menu_item.join(dish,how=\"outer\",lsuffix='dish_id', rsuffix='id')\n",
    "menu_item.head()"
   ]
  },
  {
   "cell_type": "markdown",
   "metadata": {},
   "source": [
    "# Data Parsing"
   ]
  },
  {
   "cell_type": "code",
   "execution_count": null,
   "metadata": {},
   "outputs": [],
   "source": []
  },
  {
   "cell_type": "markdown",
   "metadata": {},
   "source": [
    "# Data Mining"
   ]
  },
  {
   "cell_type": "code",
   "execution_count": null,
   "metadata": {},
   "outputs": [],
   "source": []
  },
  {
   "cell_type": "markdown",
   "metadata": {},
   "source": [
    "# Data Representation"
   ]
  },
  {
   "cell_type": "markdown",
   "metadata": {},
   "source": [
    "### Maps Visualization"
   ]
  },
  {
   "cell_type": "code",
   "execution_count": 37,
   "metadata": {
    "tags": []
   },
   "outputs": [
    {
     "output_type": "stream",
     "name": "stdout",
     "text": "[[24.1053166, 55.7491741], [40.7127281, -74.0060152], [40.7050005, -74.0102731], [40.7127281, -74.0060152], [55.9508879, -3.1905922], [24.1053166, 55.7491741], [40.7127281, -74.0060152], [40.7050005, -74.0102731], [40.7127281, -74.0060152], [55.9508879, -3.1905922], [24.1053166, 55.7491741], [40.7127281, -74.0060152], [40.7050005, -74.0102731], [40.7127281, -74.0060152], [55.9508879, -3.1905922], [24.1053166, 55.7491741], [40.7127281, -74.0060152], [40.7050005, -74.0102731], [40.7127281, -74.0060152], [55.9508879, -3.1905922], [24.1053166, 55.7491741], [40.7127281, -74.0060152], [40.7050005, -74.0102731], [40.7127281, -74.0060152], [55.9508879, -3.1905922], [55.9508879, -3.1905922], [40.7127281, -74.0060152], [7.9768, 8.7127], [48.2083537, 16.3725042], [42.635008897987646, -73.73941720239189], [46.6083443, 6.2310684], [18.4520035, -66.07145997812117], [43.8119467, 3.8133382]]\n(43.8119467, 3.8133382)\n"
    }
   ],
   "source": [
    "from geopy.geocoders import Nominatim\n",
    "\n",
    "menu1= menu.values.tolist()\n",
    "\n",
    "for i in range(100):\n",
    "\n",
    "    try:\n",
    "        location = menu1[i][5]\n",
    "        location=location[:-1]\n",
    "        \n",
    "    except:\n",
    "        continue\n",
    "    locations.append(location)\n",
    "\n",
    "locator = Nominatim(user_agent=\"H\")\n",
    "\n",
    "coors = []\n",
    "\n",
    "for i in range(100):\n",
    "\n",
    "    try:\n",
    "        locate = locator.geocode(locations[i])\n",
    "        coors.append([locate.latitude,locate.longitude])\n",
    "    except:\n",
    "        continue\n",
    "\n",
    "\n",
    "print(coors)\n",
    "print(len(coors))"
   ]
  },
  {
   "cell_type": "code",
   "execution_count": 43,
   "metadata": {
    "tags": []
   },
   "outputs": [
    {
     "output_type": "stream",
     "name": "stdout",
     "text": "33\nhi\nhi\nhi\nhi\nhi\nhi\nhi\nhi\nhi\nhi\nhi\nhi\nhi\nhi\nhi\nhi\nhi\nhi\nhi\nhi\nhi\nhi\nhi\nhi\nhi\nhi\nhi\nhi\nhi\nhi\nhi\nhi\nhi\n"
    },
    {
     "output_type": "execute_result",
     "data": {
      "text/plain": "<folium.folium.Map at 0x7fbf34ea12b0>",
      "text/html": "<div style=\"width:100%;\"><div style=\"position:relative;width:100%;height:0;padding-bottom:60%;\"><span style=\"color:#565656\">Make this Notebook Trusted to load map: File -> Trust Notebook</span><iframe src=\"about:blank\" style=\"position:absolute;width:100%;height:100%;left:0;top:0;border:none !important;\" data-html=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 onload=\"this.contentDocument.open();this.contentDocument.write(atob(this.getAttribute('data-html')));this.contentDocument.close();\" allowfullscreen webkitallowfullscreen mozallowfullscreen></iframe></div></div>"
     },
     "metadata": {},
     "execution_count": 43
    }
   ],
   "source": [
    "import folium\n",
    "\n",
    "print(len(coors))\n",
    "map = folium.Map(location=[40.7127281, -70.0060152], zoom_start=12)\n",
    "for point in range(0, len(coors)):\n",
    "    print(\"hi\")\n",
    "    folium.Marker(coors[point]).add_to(map)\n",
    "\n",
    "map"
   ]
  },
  {
   "cell_type": "markdown",
   "metadata": {},
   "source": [
    "# Data Refining"
   ]
  },
  {
   "cell_type": "code",
   "execution_count": null,
   "metadata": {},
   "outputs": [],
   "source": []
  },
  {
   "cell_type": "markdown",
   "metadata": {},
   "source": [
    "# Data interaction"
   ]
  },
  {
   "cell_type": "code",
   "execution_count": null,
   "metadata": {},
   "outputs": [],
   "source": []
  }
 ],
 "metadata": {
  "language_info": {
   "codemirror_mode": {
    "name": "ipython",
    "version": 3
   },
   "file_extension": ".py",
   "mimetype": "text/x-python",
   "name": "python",
   "nbconvert_exporter": "python",
   "pygments_lexer": "ipython3",
   "version": 3
  },
  "orig_nbformat": 2,
  "kernelspec": {
   "name": "python_defaultSpec_1596640974901",
   "display_name": "Python 3.8.2 64-bit"
  }
 },
 "nbformat": 4,
 "nbformat_minor": 2
}